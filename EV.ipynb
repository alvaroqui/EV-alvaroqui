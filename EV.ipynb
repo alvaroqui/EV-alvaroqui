{
 "cells": [
  {
   "cell_type": "code",
   "execution_count": null,
   "metadata": {},
   "outputs": [],
   "source": [
    "import pandas as pd\n",
    "from pandas.io.json import json_normalize\n",
    "import warnings"
   ]
  },
  {
   "cell_type": "code",
   "execution_count": null,
   "metadata": {},
   "outputs": [],
   "source": [
    "raw_tweets = pd.read_json(r'./farmers-protest-tweets-2021-03-5.json', lines=True)\n",
    "raw_tweets = raw_tweets[raw_tweets['lang']=='en']"
   ]
  },
  {
   "cell_type": "code",
   "execution_count": null,
   "metadata": {},
   "outputs": [],
   "source": [
    "def top_retweeted(tweets):\n",
    "    return tweets.sort_values(['retweetCount'], ascending = False).head(10)\n",
    "                                               "
   ]
  },
  {
   "cell_type": "code",
   "execution_count": null,
   "metadata": {},
   "outputs": [],
   "source": [
    "def top_users(tweets):\n",
    "    users_count = {}\n",
    "    user_dict = {}\n",
    "    for user in tweets.user:\n",
    "        try:\n",
    "            users_count[user['id']] += 1\n",
    "        except:\n",
    "            users_count[user['id']] = 1\n",
    "            user_dict[user['id']] = user\n",
    "    top_10 = sorted(user_dict.keys(), key =  lambda x: users_count[x], reverse = True)[:10]\n",
    "    top_10_count = sorted(users_count.values(), reverse = True)[:10]\n",
    "    df_top_users = pd.DataFrame({'user':[user_dict[key] for key in top_10], 'count':top_10_count})\n",
    "    return df_top_users"
   ]
  },
  {
   "cell_type": "code",
   "execution_count": null,
   "metadata": {},
   "outputs": [],
   "source": [
    "import datetime\n",
    "\n",
    "def top_days(tweets):\n",
    "    days_count = {}\n",
    "    for date in tweets.date:\n",
    "        date = date.strftime('%Y-%m-%d')\n",
    "        try:\n",
    "            days_count[date] += 1\n",
    "        except:\n",
    "            days_count[date] = 1\n",
    "    top_10 = sorted(days_count.keys(), key =  lambda x: days_count[x], reverse = True)[:10]\n",
    "    top_10_count = sorted(days_count.values(), reverse = True)[:10]\n",
    "    df_top_days = pd.DataFrame({'dia': top_10, 'count':top_10_count})\n",
    "    return df_top_days"
   ]
  },
  {
   "cell_type": "code",
   "execution_count": null,
   "metadata": {},
   "outputs": [],
   "source": []
  }
 ],
 "metadata": {
  "kernelspec": {
   "display_name": "Python 3",
   "language": "python",
   "name": "python3"
  },
  "language_info": {
   "codemirror_mode": {
    "name": "ipython",
    "version": 3
   },
   "file_extension": ".py",
   "mimetype": "text/x-python",
   "name": "python",
   "nbconvert_exporter": "python",
   "pygments_lexer": "ipython3",
   "version": "3.8.5"
  }
 },
 "nbformat": 4,
 "nbformat_minor": 4
}
